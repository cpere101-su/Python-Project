{
 "cells": [
  {
   "cell_type": "markdown",
   "metadata": {},
   "source": [
    "# Digital Journal Analysis\n",
    "\n",
    "Updated Algorithm\n",
    "- import pandas"
   ]
  },
  {
   "cell_type": "code",
   "execution_count": null,
   "metadata": {},
   "outputs": [
    {
     "name": "stdout",
     "output_type": "stream",
     "text": [
      "What is your name? Karissa\n",
      "How old are you? 20\n",
      "What is your gender (M/F)? F\n",
      "Hello Karissa! \n"
     ]
    }
   ],
   "source": [
    "import pandas as pd\n",
    "\n",
    "name = input(\"What is your name? \")\n",
    "age = input(\"How old are you? \")\n",
    "gender = input(\"What is your gender (M/F)? \")\n",
    "print(\"Hello %s! \" %(name))\n",
    "journal_entry = input(\"Describe how your day went.\")"
   ]
  },
  {
   "cell_type": "code",
   "execution_count": null,
   "metadata": {},
   "outputs": [],
   "source": []
  }
 ],
 "metadata": {
  "kernelspec": {
   "display_name": "Python 3",
   "language": "python",
   "name": "python3"
  },
  "language_info": {
   "codemirror_mode": {
    "name": "ipython",
    "version": 3
   },
   "file_extension": ".py",
   "mimetype": "text/x-python",
   "name": "python",
   "nbconvert_exporter": "python",
   "pygments_lexer": "ipython3",
   "version": "3.6.6"
  }
 },
 "nbformat": 4,
 "nbformat_minor": 2
}
