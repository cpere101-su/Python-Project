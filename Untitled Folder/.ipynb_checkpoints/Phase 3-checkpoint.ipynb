{
 "cells": [
  {
   "cell_type": "markdown",
   "metadata": {},
   "source": [
    "# Digital Journal Analysis\n",
    "\n",
    "Updated Algorithm\n",
    "- import pandas\n",
    "- import requests\n",
    "- create a function for the sentiment analysis\n",
    "    - use API sentiment analysis and create a url variable for the link\n",
    "    - create parameters for the message variable (what the user inputs)\n",
    "    - request the url\n",
    "    - put it into json format\n",
    "- prompt user input asking for a first name\n",
    "- prompt user input asking for the date\n",
    "- prompt user input asking to describe how the day went in at least 2-3 sentences\n",
    "- print hello and the name\n",
    "- call for the function we just created with the message variable in the parameters and create a variable for it (journal_entry)\n",
    "- print the journal_entry variable and only the label of the sentiment analysis result\n",
    "\n",
    "randomizing phrases\n",
    "- import random\n",
    "- create a list of phrases for when the user has a pos (positive) sentiment analysis result and put that into a variable pos_results\n",
    "- create a list of phrases for when the user has a neg (negative) sentiment analysis result and put that into a variable neg_results\n",
    "- create a list of phrases for when the user has a netural sentiment analysis result and put that into a variable neutral_results\n",
    "- if sentiment is labeled 'pos' randomize the list of phrases in pos_results\n",
    "- elif sentiment is labeled 'neg' randomize the list of phrases in neg_results\n",
    "- elif sentiment is labeled 'neutral' randomize the list of phrases in neutral_results"
   ]
  },
  {
   "cell_type": "code",
   "execution_count": null,
   "metadata": {},
   "outputs": [
    {
     "name": "stdout",
     "output_type": "stream",
     "text": [
      "What is your name? Karissa\n",
      "How old are you? 20\n",
      "What is your gender (M/F)? F\n",
      "Hello Karissa! \n"
     ]
    }
   ],
   "source": [
    "import pandas as pd\n",
    "import requests \n",
    "\n",
    "name = input(\"Enter your first name: \")\n",
    "date = input(\"Enter the date for today: \")\n",
    "message = input(\"Please describe how your day went in at least 2-3 sentences: \")\n",
    "print(\"Hello %s! \" %(name))"
   ]
  },
  {
   "cell_type": "code",
   "execution_count": null,
   "metadata": {},
   "outputs": [],
   "source": [
    "def ScoreSentiment(positive_text, negative_text, input_text):\n",
    "    score = 0\n",
    "    words = input_text.split()\n",
    "    for word in words:\n",
    "        if word in positive_text:\n",
    "            score = score + 1\n",
    "        if word in negative_text:\n",
    "            score = score - 1\n",
    "    return score\n",
    "\n",
    "positive_text = [\"happy\", \"joy\", \"good\", \"love\", \"fun\"]\n",
    "negative_text = [\"mad\", \"hate\", \"upset\", \"annoyed\", \"angry\"]\n",
    "\n",
    "user_input = input(\"Enter a sentence: \")\n",
    "\n",
    "result = ScoreSentiment(positive_text, negative_text, user_input)\n",
    "result_text = \"neutral\"\n",
    "if result > 0:\n",
    "    result_text = \"positive\"\n",
    "elif result < 0:\n",
    "    result_text = \"negative\"\n",
    "print(\"%d %s\" % (result, result_text))\n",
    "\n",
    "#scratch"
   ]
  },
  {
   "cell_type": "code",
   "execution_count": 2,
   "metadata": {},
   "outputs": [],
   "source": [
    "def GetSentiment(text): \n",
    "    url = 'http://text-processing.com/api/sentiment/'\n",
    "    options = {'text' : message}\n",
    "    response = requests.post(url, data = options)\n",
    "    sentiment = response.json()    \n",
    "    \n",
    "    return sentiment"
   ]
  },
  {
   "cell_type": "code",
   "execution_count": 4,
   "metadata": {},
   "outputs": [
    {
     "ename": "NameError",
     "evalue": "name 'journal' is not defined",
     "output_type": "error",
     "traceback": [
      "\u001b[1;31m---------------------------------------------------------------------------\u001b[0m",
      "\u001b[1;31mNameError\u001b[0m                                 Traceback (most recent call last)",
      "\u001b[1;32m<ipython-input-4-43407e2cadf8>\u001b[0m in \u001b[0;36m<module>\u001b[1;34m()\u001b[0m\n\u001b[1;32m----> 1\u001b[1;33m \u001b[1;32mfor\u001b[0m \u001b[0mentry\u001b[0m \u001b[1;32min\u001b[0m \u001b[0mjournal\u001b[0m\u001b[1;33m[\u001b[0m\u001b[1;34m'data'\u001b[0m\u001b[1;33m]\u001b[0m\u001b[1;33m[\u001b[0m\u001b[1;34m'children'\u001b[0m\u001b[1;33m]\u001b[0m\u001b[1;33m:\u001b[0m\u001b[1;33m\u001b[0m\u001b[0m\n\u001b[0m\u001b[0;32m      2\u001b[0m     \u001b[0mjournal_entry\u001b[0m \u001b[1;33m=\u001b[0m \u001b[0mjournal\u001b[0m\u001b[1;33m[\u001b[0m\u001b[1;34m'entry'\u001b[0m\u001b[1;33m]\u001b[0m\u001b[1;33m\u001b[0m\u001b[0m\n\u001b[0;32m      3\u001b[0m     \u001b[0msentiment\u001b[0m \u001b[1;33m=\u001b[0m \u001b[0mGetSentiment\u001b[0m\u001b[1;33m(\u001b[0m\u001b[0mjournal_entry\u001b[0m\u001b[1;33m)\u001b[0m\u001b[1;33m\u001b[0m\u001b[0m\n\u001b[0;32m      4\u001b[0m     \u001b[0mprint\u001b[0m\u001b[1;33m(\u001b[0m\u001b[0msentiment\u001b[0m\u001b[1;33m[\u001b[0m\u001b[1;34m'label'\u001b[0m\u001b[1;33m]\u001b[0m\u001b[1;33m,\u001b[0m\u001b[1;34m':'\u001b[0m\u001b[1;33m,\u001b[0m \u001b[0mjournal_entry\u001b[0m\u001b[1;33m)\u001b[0m\u001b[1;33m\u001b[0m\u001b[0m\n",
      "\u001b[1;31mNameError\u001b[0m: name 'journal' is not defined"
     ]
    }
   ],
   "source": [
    "for entry in journal['data']['children']:\n",
    "    journal_entry = journal['entry']\n",
    "    sentiment = GetSentiment(journal_entry)\n",
    "    print(sentiment['label'],':', journal_entry)"
   ]
  },
  {
   "cell_type": "code",
   "execution_count": 6,
   "metadata": {},
   "outputs": [
    {
     "name": "stdout",
     "output_type": "stream",
     "text": [
      "Enter your first name: Karissa\n",
      "Enter the date for today: 12/11/18\n",
      "Please describe how your day went in at least 2-3 sentences: def ScoreSentiment(positive_text, negative_text, input_text):     score = 0     words = input_text.split()     for word in words:         if word in positive_text:             score = score + 1         if word in negative_text:             score = score - 1     return score  positive_text = [\"happy\", \"joy\", \"good\", \"love\", \"fun\"] negative_text = [\"mad\", \"hate\", \"upset\", \"annoyed\", \"angry\"]  user_input = input(\"Enter a sentence: \")  result = ScoreSentiment(positive_text, negative_text, user_input) result_text = \"neutral\" if result > 0:     result_text = \"positive\" elif result < 0:     result_text = \"negative\" print(\"%d %s\" % (result, result_text))\n",
      "Hello Karissa! \n",
      "{'probability': {'neg': 0.4738183259610085, 'neutral': 0.6612788572721993, 'pos': 0.5261816740389915}, 'label': 'neutral'}\n"
     ]
    },
    {
     "data": {
      "text/plain": [
       "{'probability': {'neg': 0.4738183259610085,\n",
       "  'neutral': 0.6612788572721993,\n",
       "  'pos': 0.5261816740389915},\n",
       " 'label': 'neutral'}"
      ]
     },
     "execution_count": 6,
     "metadata": {},
     "output_type": "execute_result"
    }
   ],
   "source": [
    "import pandas as pd\n",
    "import requests \n",
    "\n",
    "name = input(\"Enter your first name: \")\n",
    "date = input(\"Enter the date for today: \")\n",
    "message = input(\"Please describe how your day went in at least 2-3 sentences: \")\n",
    "print(\"Hello %s! \" %(name))\n",
    "\n",
    "journal_entry = GetSentiment(message)\n",
    "print(journal_entry)\n",
    "\n",
    "journal_entry"
   ]
  },
  {
   "cell_type": "code",
   "execution_count": 12,
   "metadata": {},
   "outputs": [
    {
     "name": "stdout",
     "output_type": "stream",
     "text": [
      "Enter your first name: Karissa\n",
      "Enter the date for today: 12/11/18\n",
      "Please describe how your day went in at least 2-3 sentences: import pandas as pd import requests   name = input(\"Enter your first name: \") date = input(\"Enter the date for today: \") message = input(\"Please describe how your day went in at least 2-3 sentences: \") print(\"Hello %s! \" %(name))\n",
      "Hello Karissa! \n",
      "pos\n"
     ]
    }
   ],
   "source": [
    "#Step 1 and 2 completed with calling GetSentiment function\n",
    "import pandas as pd\n",
    "import requests \n",
    "\n",
    "name = input(\"Enter your first name: \")\n",
    "date = input(\"Enter the date for today: \")\n",
    "message = input(\"Please describe how your day went in at least 2-3 sentences: \")\n",
    "print(\"Hello %s! \" %(name))\n",
    "\n",
    "journal_entry = GetSentiment(message)\n",
    "print(journal_entry['label'])"
   ]
  },
  {
   "cell_type": "code",
   "execution_count": 16,
   "metadata": {},
   "outputs": [
    {
     "name": "stdout",
     "output_type": "stream",
     "text": [
      "Enter your first name: Karissa\n",
      "Enter the date for today: 11/23\n",
      "Please describe how your day went in at least 2-3 sentences: import pandas as pd import requests   name = input(\"Enter your first name: \") date = input(\"Enter the date for today: \") message = input(\"Please describe how your day went in at least 2-3 sentences: \") print(\"Hello %s! \" %(name))  journal_entry = GetSentiment(message) print(journal_entry['label'])\n",
      "Hello Karissa! \n",
      "Keep it up!\n"
     ]
    }
   ],
   "source": [
    "import pandas as pd\n",
    "import requests \n",
    "\n",
    "name = input(\"Enter your first name: \")\n",
    "date = input(\"Enter the date for today: \")\n",
    "message = input(\"Please describe how your day went in at least 2-3 sentences: \")\n",
    "print(\"Hello %s! \" %(name))\n",
    "\n",
    "journal_entry = GetSentiment(message)\n",
    "sentiment = journal_entry['label']\n",
    "\n",
    "if sentiment == 'pos':\n",
    "    print(\"Keep it up!\")"
   ]
  },
  {
   "cell_type": "code",
   "execution_count": 21,
   "metadata": {},
   "outputs": [
    {
     "name": "stdout",
     "output_type": "stream",
     "text": [
      "You are right on track and doing great!\n"
     ]
    }
   ],
   "source": [
    "#Randomizing phrases based on results from sentiment analysis\n",
    "import random\n",
    "pos_results = [\"You are right on track and doing great!\", \"Keep it up!\", \"Things are going great!\", \"Let's keep the momentum going!\", \"You are having an awesome day!\"]\n",
    "neg_results = [\"It is a new day tomorrow. Start it off strong!\", \"Pick yourself up! You can do it!\", \"It only gets better from here.\", \"Treat yourself to something, relax a little and start up again.\", \"Don't worry about tomorrow or the next day. Focus on now.\"]\n",
    "neutral_results = [\"You can do better tomorrow!\", \"Let's continue to make the day count.\", \"How can turn this day into a positive one?\", \"Do something that makes you feel good!\", \"Neutral days are just fine. Don't let this one hamper you.\"]\n",
    "\n",
    "if sentiment == \"pos\":\n",
    "    print(random.choice(pos_results))\n",
    "elif sentiment == \"neg\":\n",
    "    print(random.choice(neg_results))\n",
    "elif sentiment == \"neutral\":\n",
    "    print(random.choice(netural_results))"
   ]
  },
  {
   "cell_type": "code",
   "execution_count": 3,
   "metadata": {},
   "outputs": [
    {
     "name": "stdout",
     "output_type": "stream",
     "text": [
      "Enter your first name: Karissa\n",
      "Enter the date for today: 12/11/18\n",
      "Please describe how your day went in at least 2-3 sentences: I had a really good day. Did well on my exam and had a tasty tuna sandwich.\n",
      "Hello Karissa! \n",
      "Treat yourself to something, relax a little and start up again.\n",
      "Karissa's Digital Journal\n"
     ]
    }
   ],
   "source": [
    "import pandas as pd\n",
    "import requests \n",
    "\n",
    "def GetSentiment(text): \n",
    "    url = 'http://text-processing.com/api/sentiment/'\n",
    "    options = {'text' : message}\n",
    "    response = requests.post(url, data = options)\n",
    "    sentiment = response.json()    \n",
    "    \n",
    "    return sentiment\n",
    "\n",
    "name = input(\"Enter your first name: \")\n",
    "date = input(\"Enter the date for today: \")\n",
    "message = input(\"Please describe how your day went in at least 2-3 sentences: \")\n",
    "print(\"Hello %s! \" %(name))\n",
    "\n",
    "journal_entry = GetSentiment(message)\n",
    "sentiment = journal_entry['label']\n",
    "\n",
    "import random\n",
    "pos_results = [\"You are right on track and doing great!\", \"Keep it up!\", \"Things are going great!\", \"Let's keep the momentum going!\", \"You are having an awesome day!\"]\n",
    "neg_results = [\"It is a new day tomorrow. Start it off strong!\", \"Pick yourself up! You can do it!\", \"It only gets better from here.\", \"Treat yourself to something, relax a little and start up again.\", \"Don't worry about tomorrow or the next day. Focus on now.\"]\n",
    "neutral_results = [\"You can do better tomorrow!\", \"Let's continue to make the day count.\", \"How can turn this day into a positive one?\", \"Do something that makes you feel good!\", \"Neutral days are just fine. Don't let this one hamper you.\"]\n",
    "\n",
    "if sentiment == \"pos\":\n",
    "    print(random.choice(pos_results))\n",
    "elif sentiment == \"neg\":\n",
    "    print(random.choice(neg_results))\n",
    "elif sentiment == \"neutral\":\n",
    "    print(random.choice(netural_results))\n",
    "\n",
    "print(\"%s's Digital Journal\" %(name))"
   ]
  },
  {
   "cell_type": "code",
   "execution_count": 26,
   "metadata": {},
   "outputs": [
    {
     "data": {
      "text/html": [
       "<div>\n",
       "<style scoped>\n",
       "    .dataframe tbody tr th:only-of-type {\n",
       "        vertical-align: middle;\n",
       "    }\n",
       "\n",
       "    .dataframe tbody tr th {\n",
       "        vertical-align: top;\n",
       "    }\n",
       "\n",
       "    .dataframe thead th {\n",
       "        text-align: right;\n",
       "    }\n",
       "</style>\n",
       "<table border=\"1\" class=\"dataframe\">\n",
       "  <thead>\n",
       "    <tr style=\"text-align: right;\">\n",
       "      <th></th>\n",
       "      <th>Name</th>\n",
       "      <th>Date</th>\n",
       "    </tr>\n",
       "  </thead>\n",
       "  <tbody>\n",
       "  </tbody>\n",
       "</table>\n",
       "</div>"
      ],
      "text/plain": [
       "Empty DataFrame\n",
       "Columns: [Name, Date]\n",
       "Index: []"
      ]
     },
     "execution_count": 26,
     "metadata": {},
     "output_type": "execute_result"
    }
   ],
   "source": [
    "user = pd.Series(['Name: ': name,\n",
    "                  'Date: ': date,\n",
    "                  'Message: ': message,\n",
    "                  'Sentiment:' : sentiment])\n",
    "df = pd.DataFrame()\n",
    "df['Name'] = name\n",
    "df['Date'] = date\n",
    "\n",
    "df"
   ]
  },
  {
   "cell_type": "code",
   "execution_count": 31,
   "metadata": {},
   "outputs": [
    {
     "name": "stdout",
     "output_type": "stream",
     "text": [
      "       Name:     Date:                                           Message:   \\\n",
      "User  Karissa  12/11/18  I had a really bad day. It sucked because I fe...   \n",
      "\n",
      "     Sentiment:  \n",
      "User        neg  \n"
     ]
    }
   ],
   "source": [
    "user = pd.Series( {'Name: ': name,\n",
    "                  'Date: ': date,\n",
    "                  'Message: ': message,\n",
    "                  'Sentiment:' : sentiment})\n",
    "df = pd.DataFrame([user], index = ['User'])\n",
    "print(df)"
   ]
  },
  {
   "cell_type": "code",
   "execution_count": 14,
   "metadata": {},
   "outputs": [
    {
     "name": "stdout",
     "output_type": "stream",
     "text": [
      "         Name      Date Sentiment\n",
      "User  Karissa  12/11/18       neg\n"
     ]
    }
   ],
   "source": [
    "user = pd.Series( {'Name: ': name,\n",
    "                  'Date: ': date,\n",
    "                  'Message: ': message,\n",
    "                  'Sentiment:' : sentiment})\n",
    "df = pd.DataFrame({\n",
    "'Name': name,\n",
    "'Date':date,\n",
    "'Sentiment':sentiment}, index=['User'])\n",
    "print(df)"
   ]
  },
  {
   "cell_type": "code",
   "execution_count": 27,
   "metadata": {},
   "outputs": [
    {
     "ename": "ValueError",
     "evalue": "If using all scalar values, you must pass an index",
     "output_type": "error",
     "traceback": [
      "\u001b[1;31m---------------------------------------------------------------------------\u001b[0m",
      "\u001b[1;31mValueError\u001b[0m                                Traceback (most recent call last)",
      "\u001b[1;32m<ipython-input-27-1ec50e772e05>\u001b[0m in \u001b[0;36m<module>\u001b[1;34m()\u001b[0m\n\u001b[0;32m      1\u001b[0m \u001b[0mname_df\u001b[0m \u001b[1;33m=\u001b[0m \u001b[0mpd\u001b[0m\u001b[1;33m.\u001b[0m\u001b[0mSeries\u001b[0m\u001b[1;33m(\u001b[0m\u001b[1;33m[\u001b[0m\u001b[1;34m\"%s\"\u001b[0m \u001b[1;33m%\u001b[0m\u001b[1;33m(\u001b[0m\u001b[0mname\u001b[0m\u001b[1;33m)\u001b[0m\u001b[1;33m]\u001b[0m\u001b[1;33m)\u001b[0m\u001b[1;33m\u001b[0m\u001b[0m\n\u001b[1;32m----> 2\u001b[1;33m \u001b[0mjournal_df\u001b[0m \u001b[1;33m=\u001b[0m \u001b[0mpd\u001b[0m\u001b[1;33m.\u001b[0m\u001b[0mDataFrame\u001b[0m\u001b[1;33m(\u001b[0m\u001b[1;33m{\u001b[0m\u001b[1;34m'Name'\u001b[0m \u001b[1;33m:\u001b[0m \u001b[0mname\u001b[0m\u001b[1;33m}\u001b[0m\u001b[1;33m)\u001b[0m\u001b[1;33m\u001b[0m\u001b[0m\n\u001b[0m\u001b[0;32m      3\u001b[0m \u001b[0mjournal_df\u001b[0m\u001b[1;33m\u001b[0m\u001b[0m\n",
      "\u001b[1;32mc:\\users\\karis\\appdata\\local\\programs\\python\\python36\\lib\\site-packages\\pandas\\core\\frame.py\u001b[0m in \u001b[0;36m__init__\u001b[1;34m(self, data, index, columns, dtype, copy)\u001b[0m\n\u001b[0;32m    346\u001b[0m                                  dtype=dtype, copy=copy)\n\u001b[0;32m    347\u001b[0m         \u001b[1;32melif\u001b[0m \u001b[0misinstance\u001b[0m\u001b[1;33m(\u001b[0m\u001b[0mdata\u001b[0m\u001b[1;33m,\u001b[0m \u001b[0mdict\u001b[0m\u001b[1;33m)\u001b[0m\u001b[1;33m:\u001b[0m\u001b[1;33m\u001b[0m\u001b[0m\n\u001b[1;32m--> 348\u001b[1;33m             \u001b[0mmgr\u001b[0m \u001b[1;33m=\u001b[0m \u001b[0mself\u001b[0m\u001b[1;33m.\u001b[0m\u001b[0m_init_dict\u001b[0m\u001b[1;33m(\u001b[0m\u001b[0mdata\u001b[0m\u001b[1;33m,\u001b[0m \u001b[0mindex\u001b[0m\u001b[1;33m,\u001b[0m \u001b[0mcolumns\u001b[0m\u001b[1;33m,\u001b[0m \u001b[0mdtype\u001b[0m\u001b[1;33m=\u001b[0m\u001b[0mdtype\u001b[0m\u001b[1;33m)\u001b[0m\u001b[1;33m\u001b[0m\u001b[0m\n\u001b[0m\u001b[0;32m    349\u001b[0m         \u001b[1;32melif\u001b[0m \u001b[0misinstance\u001b[0m\u001b[1;33m(\u001b[0m\u001b[0mdata\u001b[0m\u001b[1;33m,\u001b[0m \u001b[0mma\u001b[0m\u001b[1;33m.\u001b[0m\u001b[0mMaskedArray\u001b[0m\u001b[1;33m)\u001b[0m\u001b[1;33m:\u001b[0m\u001b[1;33m\u001b[0m\u001b[0m\n\u001b[0;32m    350\u001b[0m             \u001b[1;32mimport\u001b[0m \u001b[0mnumpy\u001b[0m\u001b[1;33m.\u001b[0m\u001b[0mma\u001b[0m\u001b[1;33m.\u001b[0m\u001b[0mmrecords\u001b[0m \u001b[1;32mas\u001b[0m \u001b[0mmrecords\u001b[0m\u001b[1;33m\u001b[0m\u001b[0m\n",
      "\u001b[1;32mc:\\users\\karis\\appdata\\local\\programs\\python\\python36\\lib\\site-packages\\pandas\\core\\frame.py\u001b[0m in \u001b[0;36m_init_dict\u001b[1;34m(self, data, index, columns, dtype)\u001b[0m\n\u001b[0;32m    457\u001b[0m             \u001b[0marrays\u001b[0m \u001b[1;33m=\u001b[0m \u001b[1;33m[\u001b[0m\u001b[0mdata\u001b[0m\u001b[1;33m[\u001b[0m\u001b[0mk\u001b[0m\u001b[1;33m]\u001b[0m \u001b[1;32mfor\u001b[0m \u001b[0mk\u001b[0m \u001b[1;32min\u001b[0m \u001b[0mkeys\u001b[0m\u001b[1;33m]\u001b[0m\u001b[1;33m\u001b[0m\u001b[0m\n\u001b[0;32m    458\u001b[0m \u001b[1;33m\u001b[0m\u001b[0m\n\u001b[1;32m--> 459\u001b[1;33m         \u001b[1;32mreturn\u001b[0m \u001b[0m_arrays_to_mgr\u001b[0m\u001b[1;33m(\u001b[0m\u001b[0marrays\u001b[0m\u001b[1;33m,\u001b[0m \u001b[0mdata_names\u001b[0m\u001b[1;33m,\u001b[0m \u001b[0mindex\u001b[0m\u001b[1;33m,\u001b[0m \u001b[0mcolumns\u001b[0m\u001b[1;33m,\u001b[0m \u001b[0mdtype\u001b[0m\u001b[1;33m=\u001b[0m\u001b[0mdtype\u001b[0m\u001b[1;33m)\u001b[0m\u001b[1;33m\u001b[0m\u001b[0m\n\u001b[0m\u001b[0;32m    460\u001b[0m \u001b[1;33m\u001b[0m\u001b[0m\n\u001b[0;32m    461\u001b[0m     \u001b[1;32mdef\u001b[0m \u001b[0m_init_ndarray\u001b[0m\u001b[1;33m(\u001b[0m\u001b[0mself\u001b[0m\u001b[1;33m,\u001b[0m \u001b[0mvalues\u001b[0m\u001b[1;33m,\u001b[0m \u001b[0mindex\u001b[0m\u001b[1;33m,\u001b[0m \u001b[0mcolumns\u001b[0m\u001b[1;33m,\u001b[0m \u001b[0mdtype\u001b[0m\u001b[1;33m=\u001b[0m\u001b[1;32mNone\u001b[0m\u001b[1;33m,\u001b[0m \u001b[0mcopy\u001b[0m\u001b[1;33m=\u001b[0m\u001b[1;32mFalse\u001b[0m\u001b[1;33m)\u001b[0m\u001b[1;33m:\u001b[0m\u001b[1;33m\u001b[0m\u001b[0m\n",
      "\u001b[1;32mc:\\users\\karis\\appdata\\local\\programs\\python\\python36\\lib\\site-packages\\pandas\\core\\frame.py\u001b[0m in \u001b[0;36m_arrays_to_mgr\u001b[1;34m(arrays, arr_names, index, columns, dtype)\u001b[0m\n\u001b[0;32m   7354\u001b[0m     \u001b[1;31m# figure out the index, if necessary\u001b[0m\u001b[1;33m\u001b[0m\u001b[1;33m\u001b[0m\u001b[0m\n\u001b[0;32m   7355\u001b[0m     \u001b[1;32mif\u001b[0m \u001b[0mindex\u001b[0m \u001b[1;32mis\u001b[0m \u001b[1;32mNone\u001b[0m\u001b[1;33m:\u001b[0m\u001b[1;33m\u001b[0m\u001b[0m\n\u001b[1;32m-> 7356\u001b[1;33m         \u001b[0mindex\u001b[0m \u001b[1;33m=\u001b[0m \u001b[0mextract_index\u001b[0m\u001b[1;33m(\u001b[0m\u001b[0marrays\u001b[0m\u001b[1;33m)\u001b[0m\u001b[1;33m\u001b[0m\u001b[0m\n\u001b[0m\u001b[0;32m   7357\u001b[0m \u001b[1;33m\u001b[0m\u001b[0m\n\u001b[0;32m   7358\u001b[0m     \u001b[1;31m# don't force copy because getting jammed in an ndarray anyway\u001b[0m\u001b[1;33m\u001b[0m\u001b[1;33m\u001b[0m\u001b[0m\n",
      "\u001b[1;32mc:\\users\\karis\\appdata\\local\\programs\\python\\python36\\lib\\site-packages\\pandas\\core\\frame.py\u001b[0m in \u001b[0;36mextract_index\u001b[1;34m(data)\u001b[0m\n\u001b[0;32m   7391\u001b[0m \u001b[1;33m\u001b[0m\u001b[0m\n\u001b[0;32m   7392\u001b[0m         \u001b[1;32mif\u001b[0m \u001b[1;32mnot\u001b[0m \u001b[0mindexes\u001b[0m \u001b[1;32mand\u001b[0m \u001b[1;32mnot\u001b[0m \u001b[0mraw_lengths\u001b[0m\u001b[1;33m:\u001b[0m\u001b[1;33m\u001b[0m\u001b[0m\n\u001b[1;32m-> 7393\u001b[1;33m             raise ValueError('If using all scalar values, you must pass'\n\u001b[0m\u001b[0;32m   7394\u001b[0m                              ' an index')\n\u001b[0;32m   7395\u001b[0m \u001b[1;33m\u001b[0m\u001b[0m\n",
      "\u001b[1;31mValueError\u001b[0m: If using all scalar values, you must pass an index"
     ]
    }
   ],
   "source": [
    "name_df = pd.Series([\"%s\" %(name)])\n",
    "journal_df = pd.DataFrame({'Name' : name})\n",
    "journal_df"
   ]
  },
  {
   "cell_type": "code",
   "execution_count": null,
   "metadata": {},
   "outputs": [],
   "source": []
  }
 ],
 "metadata": {
  "kernelspec": {
   "display_name": "Python 3",
   "language": "python",
   "name": "python3"
  },
  "language_info": {
   "codemirror_mode": {
    "name": "ipython",
    "version": 3
   },
   "file_extension": ".py",
   "mimetype": "text/x-python",
   "name": "python",
   "nbconvert_exporter": "python",
   "pygments_lexer": "ipython3",
   "version": "3.6.6"
  }
 },
 "nbformat": 4,
 "nbformat_minor": 2
}
