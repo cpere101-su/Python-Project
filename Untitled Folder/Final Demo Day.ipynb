{
 "cells": [
  {
   "cell_type": "markdown",
   "metadata": {},
   "source": [
    "# Digital Journal Analysis\n",
    "\n",
    "Updated Algorithm\n",
    "- import pandas\n",
    "- import requests\n",
    "- create a function for the sentiment analysis\n",
    "    - use API sentiment analysis and create a url variable for the link\n",
    "    - create parameters for the message variable (what the user inputs)\n",
    "    - request the url\n",
    "    - put it into json format\n",
    "- prompt user input asking for a first name\n",
    "- prompt user input asking for the date\n",
    "- prompt user input asking to describe how the day went in at least 2-3 sentences\n",
    "- print hello and the name\n",
    "- call for the function we just created with the message variable in the parameters and create a variable for it (journal_entry)\n",
    "- print the journal_entry variable and only the label of the sentiment analysis result\n",
    "\n",
    "Randomizing Phrases\n",
    "- import random\n",
    "- create a list of phrases for when the user has a pos (positive) sentiment analysis result and put that into a variable pos_results\n",
    "- create a list of phrases for when the user has a neg (negative) sentiment analysis result and put that into a variable neg_results\n",
    "- create a list of phrases for when the user has a netural sentiment analysis result and put that into a variable neutral_results\n",
    "- if sentiment is labeled 'pos' randomize the list of phrases in pos_results\n",
    "- elif sentiment is labeled 'neg' randomize the list of phrases in neg_results\n",
    "- elif sentiment is labeled 'neutral' randomize the list of phrases in neutral_results\n",
    "\n",
    "Putting into Pandas DataFrame\n",
    "- print the user's name along with digital journal as a title"
   ]
  },
  {
   "cell_type": "code",
   "execution_count": 3,
   "metadata": {},
   "outputs": [
    {
     "name": "stdout",
     "output_type": "stream",
     "text": [
      "Enter your first name: Karissa\n",
      "Enter the date for today: 12/13/18\n",
      "Please describe how your day went in at least 2-3 sentences: I had a great day! Went to Philly for an interview and rushed back for Demo Day.\n",
      "Hello Karissa! \n",
      "Things are going great!\n",
      "Karissa's Digital Journal\n",
      "         Name      Date Sentiment\n",
      "User  Karissa  12/13/18       pos\n"
     ]
    }
   ],
   "source": [
    "import pandas as pd\n",
    "import requests \n",
    "\n",
    "def GetSentiment(text): \n",
    "    url = 'http://text-processing.com/api/sentiment/'\n",
    "    options = {'text' : message}\n",
    "    response = requests.post(url, data = options)\n",
    "    sentiment = response.json()    \n",
    "    \n",
    "    return sentiment\n",
    "\n",
    "name = input(\"Enter your first name: \")\n",
    "date = input(\"Enter the date for today: \")\n",
    "message = input(\"Please describe how your day went in at least 2-3 sentences: \")\n",
    "print(\"Hello %s! \" %(name))\n",
    "\n",
    "journal_entry = GetSentiment(message)\n",
    "sentiment = journal_entry['label']\n",
    "\n",
    "import random\n",
    "pos_results = [\"You are right on track and doing great!\", \"Keep it up!\", \"Things are going great!\", \"Let's keep the momentum going!\", \"You are having an awesome day!\"]\n",
    "neg_results = [\"It is a new day tomorrow. Start it off strong!\", \"Pick yourself up! You can do it!\", \"It only gets better from here.\", \"Treat yourself to something, relax a little and start up again.\", \"Don't worry about tomorrow or the next day. Focus on now.\"]\n",
    "neutral_results = [\"You can do better tomorrow!\", \"Let's continue to make the day count.\", \"How can turn this day into a positive one?\", \"Do something that makes you feel good!\", \"Neutral days are just fine. Don't let this one hamper you.\"]\n",
    "\n",
    "if sentiment == \"pos\":\n",
    "    print(random.choice(pos_results))\n",
    "elif sentiment == \"neg\":\n",
    "    print(random.choice(neg_results))\n",
    "elif sentiment == \"neutral\":\n",
    "    print(random.choice(netural_results))\n",
    "\n",
    "print(\"%s's Digital Journal\" %(name))\n",
    "\n",
    "user = pd.Series( {'Name: ': name,\n",
    "                  'Date: ': date,\n",
    "                  'Message: ': message,\n",
    "                  'Sentiment:' : sentiment})\n",
    "df = pd.DataFrame({\n",
    "'Name': name,\n",
    "'Date':date,\n",
    "'Sentiment':sentiment}, index=['User'])\n",
    "print(df)"
   ]
  },
  {
   "cell_type": "code",
   "execution_count": null,
   "metadata": {},
   "outputs": [],
   "source": []
  }
 ],
 "metadata": {
  "kernelspec": {
   "display_name": "Python 3",
   "language": "python",
   "name": "python3"
  },
  "language_info": {
   "codemirror_mode": {
    "name": "ipython",
    "version": 3
   },
   "file_extension": ".py",
   "mimetype": "text/x-python",
   "name": "python",
   "nbconvert_exporter": "python",
   "pygments_lexer": "ipython3",
   "version": "3.6.6"
  }
 },
 "nbformat": 4,
 "nbformat_minor": 2
}
