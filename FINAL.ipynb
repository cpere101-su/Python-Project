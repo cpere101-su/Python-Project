{
 "cells": [
  {
   "cell_type": "code",
   "execution_count": 12,
   "metadata": {},
   "outputs": [
    {
     "name": "stdout",
     "output_type": "stream",
     "text": [
      "Enter your first name: Chelsea\n",
      "Enter the date for today: December 2\n",
      "Please describe how your day went in at least 2-3 sentences: I had a bad day.\n"
     ]
    },
    {
     "data": {
      "text/html": [
       "<h1>Hello Chelsea!"
      ],
      "text/plain": [
       "<IPython.core.display.HTML object>"
      ]
     },
     "metadata": {},
     "output_type": "display_data"
    },
    {
     "name": "stdout",
     "output_type": "stream",
     "text": [
      "Don't worry about tomorrow or the next day. Focus on now.\n"
     ]
    },
    {
     "data": {
      "text/html": [
       "<body>Chelsea's Digital Journal: <body>"
      ],
      "text/plain": [
       "<IPython.core.display.HTML object>"
      ]
     },
     "metadata": {},
     "output_type": "display_data"
    },
    {
     "data": {
      "text/html": [
       "<div>\n",
       "<style scoped>\n",
       "    .dataframe tbody tr th:only-of-type {\n",
       "        vertical-align: middle;\n",
       "    }\n",
       "\n",
       "    .dataframe tbody tr th {\n",
       "        vertical-align: top;\n",
       "    }\n",
       "\n",
       "    .dataframe thead th {\n",
       "        text-align: right;\n",
       "    }\n",
       "</style>\n",
       "<table border=\"1\" class=\"dataframe\">\n",
       "  <thead>\n",
       "    <tr style=\"text-align: right;\">\n",
       "      <th></th>\n",
       "      <th>Name</th>\n",
       "      <th>Date</th>\n",
       "      <th>Sentiment</th>\n",
       "    </tr>\n",
       "  </thead>\n",
       "  <tbody>\n",
       "    <tr>\n",
       "      <th>0</th>\n",
       "      <td>Chelsea</td>\n",
       "      <td>December 1</td>\n",
       "      <td>pos</td>\n",
       "    </tr>\n",
       "    <tr>\n",
       "      <th>New</th>\n",
       "      <td>Chelsea</td>\n",
       "      <td>December 2</td>\n",
       "      <td>neg</td>\n",
       "    </tr>\n",
       "  </tbody>\n",
       "</table>\n",
       "</div>"
      ],
      "text/plain": [
       "        Name        Date Sentiment\n",
       "0    Chelsea  December 1       pos\n",
       "New  Chelsea  December 2       neg"
      ]
     },
     "metadata": {},
     "output_type": "display_data"
    }
   ],
   "source": [
    "import pandas as pd\n",
    "import requests\n",
    "from IPython.core.display import display, HTML\n",
    "\n",
    "def GetSentiment(text): \n",
    "    url = 'http://text-processing.com/api/sentiment/'\n",
    "    options = {'text' : message}\n",
    "    response = requests.post(url, data = options)\n",
    "    sentiment = response.json()    \n",
    "    \n",
    "    return sentiment\n",
    "\n",
    "journals = pd.read_csv('journal.csv')\n",
    "                    \n",
    "name = input(\"Enter your first name: \")\n",
    "date = input(\"Enter the date for today: \")\n",
    "message = input(\"Please describe how your day went in at least 2-3 sentences: \")\n",
    "\n",
    "display(HTML('<h1>Hello %s!' %(name)))\n",
    " \n",
    "journal_entry = GetSentiment(message)\n",
    "sentiment = journal_entry['label']\n",
    "\n",
    "import random\n",
    "pos_results = [\"You are right on track and doing great!\", \"Keep it up!\", \"Things are going great!\", \"Let's keep the momentum going!\", \"You are having an awesome day!\"]\n",
    "neg_results = [\"It is a new day tomorrow. Start it off strong!\", \"Pick yourself up! You can do it!\", \"It only gets better from here.\", \"Treat yourself to something, relax a little and start up again.\", \"Don't worry about tomorrow or the next day. Focus on now.\"]\n",
    "neutral_results = [\"You can do better tomorrow!\", \"Let's continue to make the day count.\", \"How can turn this day into a positive one?\", \"Do something that makes you feel good!\", \"Neutral days are just fine. Don't let this one hamper you.\"]\n",
    "\n",
    "\n",
    "if sentiment == \"pos\":\n",
    "    print(random.choice(pos_results))\n",
    "elif sentiment == \"neg\":\n",
    "    print(random.choice(neg_results))\n",
    "elif sentiment == \"neutral\":\n",
    "    print(random.choice(netural_results))\n",
    "\n",
    "display(HTML(\"<body>%s's Digital Journal: <body>\" %(name)))\n",
    "\n",
    "df = pd.DataFrame({\n",
    "'Name': name,\n",
    "'Date':date,\n",
    "'Message': message,\n",
    "'Sentiment':sentiment}, index=['New'])\n",
    "\n",
    "journals = journals.append(df)\n",
    "journals.to_csv('journal.csv', index = False)\n",
    "                       \n",
    "user = journals[['Name','Date','Sentiment']]\n",
    "display(user)"
   ]
  },
  {
   "cell_type": "code",
   "execution_count": 10,
   "metadata": {},
   "outputs": [],
   "source": [
    "#Just from what Fudge helped me with. Used just in case need to make a new dataset because we need to delete old one.\n",
    "df.to_csv('journal.csv', index = False)"
   ]
  },
  {
   "cell_type": "code",
   "execution_count": null,
   "metadata": {},
   "outputs": [],
   "source": [
    "                       "
   ]
  }
 ],
 "metadata": {
  "kernelspec": {
   "display_name": "Python 3",
   "language": "python",
   "name": "python3"
  }
 },
 "nbformat": 4,
 "nbformat_minor": 2
}
