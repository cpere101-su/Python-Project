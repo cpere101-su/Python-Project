{
 "cells": [
  {
   "cell_type": "code",
   "execution_count": 1,
   "metadata": {},
   "outputs": [],
   "source": [
    "import pandas as pd\n",
    "from collections import OrderedDict\n",
    "from datetime import date"
   ]
  },
  {
   "cell_type": "code",
   "execution_count": null,
   "metadata": {},
   "outputs": [],
   "source": [
    "people = [('Name', ['Robert', 'Martin', 'Nicole', 'Jenn', 'Emily', 'Oliver', 'Julia', 'Ashley', 'Brandon', 'Jason']),\n",
    "         ('Gender', ['M','M','F','F','F','M','F','F','M','M']),\n",
    "         ]"
   ]
  },
  {
   "cell_type": "code",
   "execution_count": 1,
   "metadata": {},
   "outputs": [],
   "source": [
    "people = {'Name': ['Robert', 'Martin', 'Robert', 'Jenn', 'Emily', 'Oliver', 'Julia', 'Ashley', 'Julia', 'Jason'],\n",
    "         'Gender': ['M','M','M','F','F','M','F','F','F','M'],\n",
    "         'Age': ['21','25','21','36','41','14','22','24','22','37'],\n",
    "         'Message': ['I had a good day today but I think I did bad on my psychology test. I also ran only 2 miles today when my goal was 3.5 miles.',],\n",
    "         'Positive: []}\n",
    "df = pd.DataFrame.from_dict(sales)"
   ]
  },
  {
   "cell_type": "code",
   "execution_count": null,
   "metadata": {},
   "outputs": [],
   "source": []
  },
  {
   "cell_type": "code",
   "execution_count": null,
   "metadata": {},
   "outputs": [],
   "source": []
  },
  {
   "cell_type": "code",
   "execution_count": null,
   "metadata": {},
   "outputs": [],
   "source": []
  }
 ],
 "metadata": {
  "kernelspec": {
   "display_name": "Python 3",
   "language": "python",
   "name": "python3"
  },
  "language_info": {
   "codemirror_mode": {
    "name": "ipython",
    "version": 3
   },
   "file_extension": ".py",
   "mimetype": "text/x-python",
   "name": "python",
   "nbconvert_exporter": "python",
   "pygments_lexer": "ipython3",
   "version": "3.6.6"
  }
 },
 "nbformat": 4,
 "nbformat_minor": 2
}
