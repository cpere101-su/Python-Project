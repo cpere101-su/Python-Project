{
 "cells": [
  {
   "cell_type": "markdown",
   "metadata": {},
   "source": [
    "# Personal Digital Journal\n",
    "Updated Algorithm\n",
    "- begin loop\n",
    "- begin try \n",
    "- import pandas\n",
    "- import requests\n",
    "- import python HTML\n",
    "- create a function for the sentiment analysis\n",
    "    - use API sentiment analysis and create a url variable for the link\n",
    "    - create parameters for the message variable (what the user inputs)\n",
    "    - request the url\n",
    "    - put it into json format\n",
    "- Read csv journal file\n",
    "- prompt user input asking for a first name\n",
    "- prompt user input asking for the date\n",
    "- prompt user input asking to describe how the day went in at least 2-3 sentences\n",
    "- If user prompts BLANK in the inputs, display error and break\n",
    "- print hello and the name\n",
    "- call for the function we just created with the message variable in the parameters and create a variable for it (journal_entry)\n",
    "- print the journal_entry variable and only the label of the sentiment analysis result\n",
    "\n",
    "Randomizing Phrases\n",
    "- import random\n",
    "- create a list of phrases for when the user has a pos (positive) sentiment analysis result and put that into a variable pos_results\n",
    "- create a list of phrases for when the user has a neg (negative) sentiment analysis result and put that into a variable neg_results\n",
    "- create a list of phrases for when the user has a netural sentiment analysis result and put that into a variable neutral_results\n",
    "- if sentiment is labeled 'pos' randomize the list of phrases in pos_results\n",
    "- elif sentiment is labeled 'neg' randomize the list of phrases in neg_results\n",
    "- elif sentiment is labeled 'neutral' randomize the list of phrases in neutral_results\n",
    "\n",
    "Putting into Pandas DataFrame\n",
    "- Create a pandas dataframe\n",
    "- Add dataframe columns to csv journal file\n",
    "- Display csv journal file with selected columns\n",
    "\n",
    "- Print exception"
   ]
  },
  {
   "cell_type": "code",
   "execution_count": null,
   "metadata": {},
   "outputs": [
    {
     "name": "stdout",
     "output_type": "stream",
     "text": [
      "Enter your first name: Chelsea\n",
      "Enter the date for today: December 3\n",
      "Please describe how your day went in at least 2-3 sentences: I had a bad day. I got hurt.\n"
     ]
    },
    {
     "data": {
      "text/html": [
       "<h1>Hello Chelsea!"
      ],
      "text/plain": [
       "<IPython.core.display.HTML object>"
      ]
     },
     "metadata": {},
     "output_type": "display_data"
    },
    {
     "name": "stdout",
     "output_type": "stream",
     "text": [
      "Don't worry about tomorrow or the next day. Focus on now.\n"
     ]
    },
    {
     "data": {
      "text/html": [
       "<body>Chelsea's Digital Journal: <body>"
      ],
      "text/plain": [
       "<IPython.core.display.HTML object>"
      ]
     },
     "metadata": {},
     "output_type": "display_data"
    },
    {
     "data": {
      "text/html": [
       "<div>\n",
       "<style scoped>\n",
       "    .dataframe tbody tr th:only-of-type {\n",
       "        vertical-align: middle;\n",
       "    }\n",
       "\n",
       "    .dataframe tbody tr th {\n",
       "        vertical-align: top;\n",
       "    }\n",
       "\n",
       "    .dataframe thead th {\n",
       "        text-align: right;\n",
       "    }\n",
       "</style>\n",
       "<table border=\"1\" class=\"dataframe\">\n",
       "  <thead>\n",
       "    <tr style=\"text-align: right;\">\n",
       "      <th></th>\n",
       "      <th>Name</th>\n",
       "      <th>Date</th>\n",
       "      <th>Sentiment</th>\n",
       "    </tr>\n",
       "  </thead>\n",
       "  <tbody>\n",
       "    <tr>\n",
       "      <th>0</th>\n",
       "      <td>Chelsea</td>\n",
       "      <td>December 1</td>\n",
       "      <td>pos</td>\n",
       "    </tr>\n",
       "    <tr>\n",
       "      <th>1</th>\n",
       "      <td>Chelsea</td>\n",
       "      <td>December 2</td>\n",
       "      <td>neg</td>\n",
       "    </tr>\n",
       "    <tr>\n",
       "      <th>New</th>\n",
       "      <td>Chelsea</td>\n",
       "      <td>December 3</td>\n",
       "      <td>neg</td>\n",
       "    </tr>\n",
       "  </tbody>\n",
       "</table>\n",
       "</div>"
      ],
      "text/plain": [
       "        Name        Date Sentiment\n",
       "0    Chelsea  December 1       pos\n",
       "1    Chelsea  December 2       neg\n",
       "New  Chelsea  December 3       neg"
      ]
     },
     "metadata": {},
     "output_type": "display_data"
    }
   ],
   "source": [
    "#Chelsea - Contributed code\n",
    "#Karissa - Contributed code\n",
    "\n",
    "while True: #Chelsea\n",
    "    try: #Chelsea\n",
    "        import pandas as pd #Chelsea\n",
    "        import requests #Chelsea\n",
    "        from IPython.core.display import display, HTML #Chelsea\n",
    "\n",
    "        def GetSentiment(text): #Chelsea + Karissa\n",
    "            url = 'http://text-processing.com/api/sentiment/'\n",
    "            options = {'text' : message}\n",
    "            response = requests.post(url, data = options)\n",
    "            sentiment = response.json()    \n",
    "    \n",
    "            return sentiment   \n",
    "    \n",
    "        journals = pd.read_csv('journal.csv') #Chelsea\n",
    "        \n",
    "        name = input(\"Enter your first name: \") #Chelsea + Karissa\n",
    "        date = input(\"Enter the date for today: \") #Chelsea + Karissa\n",
    "        message = input(\"Please describe how your day went in at least 2-3 sentences: \") #Chelsea + Karissa\n",
    "        \n",
    "        if name == \"\": #Chelsea\n",
    "            print('Oops! You forgot to enter a name! Please try again.')\n",
    "            break\n",
    "        elif date == \"\": #Chelsea\n",
    "            print('Oops! You forgot to enter a date! Please try again.')\n",
    "            break\n",
    "        elif message == \"\": #Chelsea\n",
    "            print('Oops! You forgot to enter a message! Please try again.')\n",
    "            break\n",
    "        elif name.isdigit(): #Chelsea\n",
    "            print('Oops! you entered a number instead of a name! Please try again.')\n",
    "            break\n",
    "            \n",
    "        display(HTML('<h1>Hello %s!' %(name))) #Chelsea + Karissa\n",
    " \n",
    "        journal_entry = GetSentiment(message) #Karissa\n",
    "        sentiment = journal_entry['label'] #Karissa\n",
    "\n",
    "        import random #Karissa\n",
    "        pos_results = [\"You are right on track and doing great!\", \"Keep it up!\", \"Things are going great!\", \"Let's keep the momentum going!\", \"You are having an awesome day!\"]\n",
    "        neg_results = [\"It is a new day tomorrow. Start it off strong!\", \"Pick yourself up! You can do it!\", \"It only gets better from here.\", \"Treat yourself to something, relax a little and start up again.\", \"Don't worry about tomorrow or the next day. Focus on now.\"]\n",
    "        neutral_results = [\"You can do better tomorrow!\", \"Let's continue to make the day count.\", \"How can turn this day into a positive one?\", \"Do something that makes you feel good!\", \"Neutral days are just fine. Don't let this one hamper you.\"]\n",
    "\n",
    "\n",
    "        if sentiment == \"pos\": #Karissa\n",
    "            print(random.choice(pos_results))\n",
    "        elif sentiment == \"neg\": #Karissa\n",
    "            print(random.choice(neg_results))\n",
    "        elif sentiment == \"neutral\": #Karissa\n",
    "            print(random.choice(netural_results))\n",
    "\n",
    "        display(HTML(\"<body>%s's Digital Journal: <body>\" %(name))) #Chelsea + Karissa\n",
    "\n",
    "        df = pd.DataFrame({ #Chelsea\n",
    "        'Name': name,\n",
    "        'Date':date,\n",
    "        'Message': message,\n",
    "        'Sentiment':sentiment}, index=['New'])\n",
    "    \n",
    "        journals = journals.append(df) #Chelsea\n",
    "        journals.to_csv('journal.csv', index = False) #Chelsea\n",
    "        \n",
    "        user = journals[['Name','Date','Sentiment']] #Chelsea\n",
    "        display(user)\n",
    "        \n",
    "    except Exception as e: #Chelsea\n",
    "        print(e)"
   ]
  },
  {
   "cell_type": "code",
   "execution_count": null,
   "metadata": {},
   "outputs": [],
   "source": []
  }
 ],
 "metadata": {
  "kernelspec": {
   "display_name": "Python 3",
   "language": "python",
   "name": "python3"
  },
  "language_info": {
   "codemirror_mode": {
    "name": "ipython",
    "version": 3
   },
   "file_extension": ".py",
   "mimetype": "text/x-python",
   "name": "python",
   "nbconvert_exporter": "python",
   "pygments_lexer": "ipython3",
   "version": "3.6.6"
  }
 },
 "nbformat": 4,
 "nbformat_minor": 2
}
