{
 "cells": [
  {
   "cell_type": "code",
   "execution_count": null,
   "metadata": {},
   "outputs": [],
   "source": [
    "import pandas as pd\n",
    "import requests"
   ]
  },
  {
   "cell_type": "code",
   "execution_count": 2,
   "metadata": {},
   "outputs": [],
   "source": [
    "def GetSentiment(message):\n",
    "    url = 'http://text-processing.com/api/sentiment/'\n",
    "    options = { 'text' : message }\n",
    "    response = requests.post(url, data = options)\n",
    "    sentiment = response.json()\n",
    "    \n",
    "    return sentiment"
   ]
  },
  {
   "cell_type": "code",
   "execution_count": 5,
   "metadata": {},
   "outputs": [
    {
     "name": "stdout",
     "output_type": "stream",
     "text": [
      "Enter your first name:Chelsea\n",
      "Enter the date: December 11\n",
      "Please describe how your day went in 2-3 sentences: I was happy. I had a good day.\n",
      "       Name:        Date:                        Message:  Sentiment:\n",
      "User  Chelsea  December 11  I was happy. I had a good day.        pos\n"
     ]
    }
   ],
   "source": [
    "name = input(\"Enter your first name:\")\n",
    "month = input(\"Enter the date: \")\n",
    "message = input(\"Please describe how your day went in 2-3 sentences: \")\n",
    "value = GetSentiment(message)\n",
    "\n",
    "user = pd.Series( {'Name: ': name,\n",
    "                  'Date: ': month,\n",
    "                  'Message: ': message,\n",
    "                  'Sentiment:' : sentiment})\n",
    "df = pd.DataFrame([user], index = ['User'])\n",
    "print(df)"
   ]
  },
  {
   "cell_type": "code",
   "execution_count": null,
   "metadata": {},
   "outputs": [],
   "source": [
    "user = pd.Series( {'Name: ': name,\n",
    "                  'Date: ': month,\n",
    "                  'Message: ': message,\n",
    "                  'Sentiment:' : sentiment['label']})\n",
    "df = pd.DataFrame([user], index = ['User'])\n",
    "print(df)"
   ]
  },
  {
   "cell_type": "code",
   "execution_count": null,
   "metadata": {},
   "outputs": [],
   "source": []
  }
 ],
 "metadata": {
  "kernelspec": {
   "display_name": "Python 3",
   "language": "python",
   "name": "python3"
  },
  "language_info": {
   "codemirror_mode": {
    "name": "ipython",
    "version": 3
   },
   "file_extension": ".py",
   "mimetype": "text/x-python",
   "name": "python",
   "nbconvert_exporter": "python",
   "pygments_lexer": "ipython3",
   "version": "3.6.6"
  }
 },
 "nbformat": 4,
 "nbformat_minor": 2
}
