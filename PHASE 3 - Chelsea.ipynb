{
 "cells": [
  {
   "cell_type": "code",
   "execution_count": 1,
   "metadata": {},
   "outputs": [],
   "source": [
    "import pandas as pd\n",
    "import requests"
   ]
  },
  {
   "cell_type": "code",
   "execution_count": 3,
   "metadata": {},
   "outputs": [
    {
     "name": "stdout",
     "output_type": "stream",
     "text": [
      "Enter your first name:Chelsea\n",
      "Enter the current month: November\n",
      "Please describe how your day went in 2-3 sentences: I had a good day. I did great on my exam. I am happy.\n"
     ]
    },
    {
     "data": {
      "text/plain": [
       "{'probability': {'neg': 0.3544391246270733,\n",
       "  'neutral': 0.07794876125501844,\n",
       "  'pos': 0.6455608753729267},\n",
       " 'label': 'pos'}"
      ]
     },
     "execution_count": 3,
     "metadata": {},
     "output_type": "execute_result"
    }
   ],
   "source": [
    "name = input(\"Enter your first name:\")\n",
    "month = input(\"Enter the current month: \")\n",
    "message = input(\"Please describe how your day went in 2-3 sentences: \")\n",
    "url = 'http://text-processing.com/api/sentiment/'\n",
    "options = { 'text' : message }\n",
    "response = requests.post(url, data = options)\n",
    "sentiment = response.json()\n",
    "sentiment"
   ]
  },
  {
   "cell_type": "code",
   "execution_count": null,
   "metadata": {},
   "outputs": [],
   "source": []
  }
 ],
 "metadata": {
  "kernelspec": {
   "display_name": "Python 3",
   "language": "python",
   "name": "python3"
  },
  "language_info": {
   "codemirror_mode": {
    "name": "ipython",
    "version": 3
   },
   "file_extension": ".py",
   "mimetype": "text/x-python",
   "name": "python",
   "nbconvert_exporter": "python",
   "pygments_lexer": "ipython3",
   "version": "3.6.6"
  }
 },
 "nbformat": 4,
 "nbformat_minor": 2
}
